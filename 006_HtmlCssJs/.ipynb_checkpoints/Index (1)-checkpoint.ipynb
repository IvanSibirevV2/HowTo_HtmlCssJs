{
 "cells": [
  {
   "cell_type": "markdown",
   "metadata": {},
   "source": [
    "# Welcome to Jupyter!"
   ]
  },
  {
   "cell_type": "markdown",
   "metadata": {},
   "source": [
    "This repo contains an introduction to [Jupyter](https://jupyter.org) and [IPython](https://ipython.org).\n",
    "\n",
    "Outline of some basics:\n",
    "\n",
    "* [Notebook Basics](../examples/Notebook/Notebook%20Basics.ipynb)\n",
    "* [IPython - beyond plain python](../examples/IPython%20Kernel/Beyond%20Plain%20Python.ipynb)\n",
    "* [Markdown Cells](../examples/Notebook/Working%20With%20Markdown%20Cells.ipynb)\n",
    "* [Rich Display System](../examples/IPython%20Kernel/Rich%20Output.ipynb)\n",
    "* [Custom Display logic](../examples/IPython%20Kernel/Custom%20Display%20Logic.ipynb)\n",
    "* [Running a Secure Public Notebook Server](../examples/Notebook/Running%20the%20Notebook%20Server.ipynb#Securing-the-notebook-server)\n",
    "* [How Jupyter works](../examples/Notebook/Multiple%20Languages%2C%20Frontends.ipynb) to run code in different languages."
   ]
  },
  {
   "cell_type": "markdown",
   "metadata": {},
   "source": [
    "<div class=\"block1\"> привет мир </div>"
   ]
  },
  {
   "cell_type": "code",
   "execution_count": 1,
   "metadata": {
    "scrolled": true
   },
   "outputs": [
    {
     "data": {
      "text/html": [
       "<html>\n",
       "<head>\n",
       "    <link href=\"css/style.css\" rel=\"stylesheet\">\n",
       "    <script type=\"text/javascript\" src=\"js/jquery-1.9.1.min.js\"></script>\n",
       "</head>\n",
       "\n",
       "<script type=\"text/javascript\"> //разворачиваем/сворачиваем отзыв\n",
       "$(document).ready(function(){\n",
       "    $(\".slideT\").hide();\n",
       "    $(\".pointer\").click(function () {\n",
       "        $(this).children().slideToggle(\"slow\")\n",
       "       .siblings(\".pointer > .slideT\").slideUp(\"slow\");\n",
       "    });\n",
       "})\n",
       "</script>\n",
       "\n",
       "    \n",
       "\n",
       "<div class=\"pointer\">\n",
       "    Основные сведения\n",
       "    <div class=\"slideT\" style=\"display: block; overflow: hidden;\">\n",
       "        блок который нужно свернуть или развернуть\n",
       "    </div>\n",
       "</div>\n",
       "\n",
       "    \n",
       "<div class=\"pointer\">\n",
       "    Структура и органы управления образовательной организацией\n",
       "    <div class=\"slideT\" style=\"display: block; overflow: hidden;\">\n",
       "        блок который нужно свернуть или развернуть\n",
       "    </div>\n",
       "</div>\n",
       "</html>\n"
      ],
      "text/plain": [
       "<IPython.core.display.HTML object>"
      ]
     },
     "metadata": {},
     "output_type": "display_data"
    }
   ],
   "source": [
    "%%html\n",
    "<html>\n",
    "<head>\n",
    "    <link href=\"css/style.css\" rel=\"stylesheet\">\n",
    "    <script type=\"text/javascript\" src=\"js/jquery-1.9.1.min.js\"></script>\n",
    "</head>\n",
    "\n",
    "<script type=\"text/javascript\"> //разворачиваем/сворачиваем отзыв\n",
    "$(document).ready(function(){\n",
    "    $(\".slideT\").hide();\n",
    "    $(\".pointer\").click(function () {\n",
    "        $(this).children().slideToggle(\"slow\")\n",
    "       .siblings(\".pointer > .slideT\").slideUp(\"slow\");\n",
    "    });\n",
    "})\n",
    "</script>\n",
    "\n",
    "    \n",
    "\n",
    "<div class=\"pointer\">\n",
    "    Основные сведения\n",
    "    <div class=\"slideT\" style=\"display: block; overflow: hidden;\">\n",
    "        блок который нужно свернуть или развернуть\n",
    "    </div>\n",
    "</div>\n",
    "\n",
    "    \n",
    "<div class=\"pointer\">\n",
    "    Структура и органы управления образовательной организацией\n",
    "    <div class=\"slideT\" style=\"display: block; overflow: hidden;\">\n",
    "        блок который нужно свернуть или развернуть\n",
    "    </div>\n",
    "</div>\n",
    "</html>"
   ]
  }
 ],
 "metadata": {
  "kernelspec": {
   "display_name": "Python 3 (ipykernel)",
   "language": "python",
   "name": "python3"
  },
  "language_info": {
   "codemirror_mode": {
    "name": "ipython",
    "version": 3
   },
   "file_extension": ".py",
   "mimetype": "text/x-python",
   "name": "python",
   "nbconvert_exporter": "python",
   "pygments_lexer": "ipython3",
   "version": "3.11.4"
  }
 },
 "nbformat": 4,
 "nbformat_minor": 2
}
