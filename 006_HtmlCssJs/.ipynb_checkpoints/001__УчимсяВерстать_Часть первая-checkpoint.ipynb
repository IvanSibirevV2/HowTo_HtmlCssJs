{
 "cells": [
  {
   "cell_type": "markdown",
   "metadata": {},
   "source": [
    "# Дело вот в чем"
   ]
  },
  {
   "cell_type": "markdown",
   "metadata": {},
   "source": [
    "Прежде чем бороздить просторы космоса нам нужна прочная основа. И начнем ны с программирования сайтов визиток 2000 годов. Тогда HTML базировался на тегах верстки.\n",
    "- Задание. Попытаться написать сайт/визитку/рассказ о себе, и при этом использовать максимально возможное колличество разнообразных HTML тегов. Постарайтесь какую-то часть из них запомнить...\n",
    "\n",
    "В рамках этой лекции не рассматривается верстка через тег Div и каскадные таблицы CSS стилей. Это будет позже. В данном задании не требуется, но допустимо и даже приветствуется.\n",
    "\n",
    "Нами, в рамках этой лекции был разобран сайт\n",
    "<a \n",
    "href=\"http://htmlbook.ru/html/a\" \n",
    "name=\"идентификатор\" \n",
    "title=\"текст подсказки\">htmlbook.ru</a>\n",
    "На котором изложено множество Html тегов. В рамках подготовки этого материала я просмотрел их все, и отобрал теги, дожившие до наших дней, наиболее aдекватные, часто используетмые и поддерживаемые браузером. За более подробными разбяснениями тегов и их аттребутов и стилей можно обратиться к <code>htmlbook.ru</code>"
   ]
  },
  {
   "cell_type": "markdown",
   "metadata": {
    "cell_style": "center",
    "heading_collapsed": true
   },
   "source": [
    "# h1 - h6 - заголовки, тут все банально\n",
    "## h2\n",
    "### h3\n",
    "#### h4\n",
    "##### h5\n",
    "###### h6"
   ]
  },
  {
   "cell_type": "code",
   "execution_count": 123,
   "metadata": {
    "ExecuteTime": {
     "end_time": "2021-04-23T22:33:33.174599Z",
     "start_time": "2021-04-23T22:33:33.166024Z"
    },
    "cell_style": "center",
    "hidden": true
   },
   "outputs": [
    {
     "data": {
      "text/html": [
       "<h1>h1</h1>\n",
       "<h2>h2</h2>\n",
       "<h3>h3</h3>\n",
       "<h4>h4</h4>\n",
       "<h5>h5</h5>\n",
       "<h6>h6</h6>\n"
      ],
      "text/plain": [
       "<IPython.core.display.HTML object>"
      ]
     },
     "metadata": {},
     "output_type": "display_data"
    }
   ],
   "source": [
    "%%html\n",
    "<h1>h1</h1>\n",
    "<h2>h2</h2>\n",
    "<h3>h3</h3>\n",
    "<h4>h4</h4>\n",
    "<h5>h5</h5>\n",
    "<h6>h6</h6>"
   ]
  },
  {
   "cell_type": "markdown",
   "metadata": {},
   "source": [
    "# Наиболее распространенные теги"
   ]
  },
  {
   "cell_type": "markdown",
   "metadata": {
    "heading_collapsed": true
   },
   "source": [
    "## $<!-- -->$ - тег комментариев"
   ]
  },
  {
   "cell_type": "code",
   "execution_count": 132,
   "metadata": {
    "ExecuteTime": {
     "end_time": "2021-04-23T22:37:25.934976Z",
     "start_time": "2021-04-23T22:37:25.925996Z"
    },
    "hidden": true
   },
   "outputs": [
    {
     "data": {
      "text/html": [
       "HTML есть и его видно.\n",
       "<!-- Лютая фигня,есть но её не видно. -->\n"
      ],
      "text/plain": [
       "<IPython.core.display.HTML object>"
      ]
     },
     "metadata": {},
     "output_type": "display_data"
    }
   ],
   "source": [
    "%%html\n",
    "HTML есть и его видно.\n",
    "<!-- Лютая фигня,есть но её не видно. -->"
   ]
  },
  {
   "cell_type": "markdown",
   "metadata": {
    "heading_collapsed": true
   },
   "source": [
    "## <a href=\"http://htmlbook.ru/html/a\">__________$<a>$____________</a>-Тег гиперссылки"
   ]
  },
  {
   "cell_type": "markdown",
   "metadata": {
    "hidden": true
   },
   "source": [
    "Обычная гипер ссылка"
   ]
  },
  {
   "cell_type": "code",
   "execution_count": 1,
   "metadata": {
    "ExecuteTime": {
     "end_time": "2021-04-24T03:49:14.540628Z",
     "start_time": "2021-04-24T03:49:14.525984Z"
    },
    "code_folding": [],
    "hidden": true
   },
   "outputs": [
    {
     "data": {
      "text/html": [
       "<a \n",
       "href=\"http://htmlbook.ru/html/a\" \n",
       "name=\"идентификатор\" \n",
       "title=\"текст подсказки\">Простая гиперссылка</a>\n"
      ],
      "text/plain": [
       "<IPython.core.display.HTML object>"
      ]
     },
     "metadata": {},
     "output_type": "display_data"
    }
   ],
   "source": [
    "%%html\n",
    "<a \n",
    "href=\"http://htmlbook.ru/html/a\" \n",
    "name=\"идентификатор\" \n",
    "title=\"текст подсказки\">Простая гиперссылка</a>"
   ]
  },
  {
   "cell_type": "markdown",
   "metadata": {
    "hidden": true
   },
   "source": [
    "При помощи якоря делается список литературы"
   ]
  },
  {
   "cell_type": "code",
   "execution_count": 1,
   "metadata": {
    "ExecuteTime": {
     "end_time": "2021-04-23T19:49:51.079687Z",
     "start_time": "2021-04-23T19:49:51.052107Z"
    },
    "hidden": true
   },
   "outputs": [
    {
     "data": {
      "text/html": [
       "<a href=\"#target_2021_01_28_20_44\">Якарная ссылка</a><br/>\n",
       "<a name=\"target_2021_01_28_20_44\">Якарь ссылки</a>\n"
      ],
      "text/plain": [
       "<IPython.core.display.HTML object>"
      ]
     },
     "metadata": {},
     "output_type": "display_data"
    }
   ],
   "source": [
    "%%html\n",
    "<a href=\"#target_2021_01_28_20_44\">Якарная ссылка</a><br/>\n",
    "<a name=\"target_2021_01_28_20_44\">Якарь ссылки</a>"
   ]
  },
  {
   "cell_type": "markdown",
   "metadata": {
    "hidden": true
   },
   "source": [
    "Определяет последовательность перехода между ссылками при нажатии на Tab"
   ]
  },
  {
   "cell_type": "code",
   "execution_count": 3,
   "metadata": {
    "ExecuteTime": {
     "end_time": "2021-04-23T21:22:38.079849Z",
     "start_time": "2021-04-23T21:22:38.068253Z"
    },
    "hidden": true,
    "scrolled": true
   },
   "outputs": [
    {
     "data": {
      "text/html": [
       "<a href=\"1.html\" tabindex=\"13\">Ссылка 1</a></p>\n",
       "<a href=\"3.html\" tabindex=\"11\">Ссылка 3</a></p>\n",
       "<a href=\"2.html\" tabindex=\"12\">Ссылка 2</a></p>\n",
       "<a href=\"4.html\" tabindex=\"10\">Ссылка 4</a></p>\n"
      ],
      "text/plain": [
       "<IPython.core.display.HTML object>"
      ]
     },
     "metadata": {},
     "output_type": "display_data"
    }
   ],
   "source": [
    "%%html\n",
    "<a href=\"1.html\" tabindex=\"13\">Ссылка 1</a></p>\n",
    "<a href=\"3.html\" tabindex=\"11\">Ссылка 3</a></p>\n",
    "<a href=\"2.html\" tabindex=\"12\">Ссылка 2</a></p>\n",
    "<a href=\"4.html\" tabindex=\"10\">Ссылка 4</a></p>"
   ]
  },
  {
   "cell_type": "markdown",
   "metadata": {
    "hidden": true
   },
   "source": [
    "Возможно в будующем пригодится и <br/>\n",
    "http://htmlbook.ru/html/a/type"
   ]
  },
  {
   "cell_type": "markdown",
   "metadata": {
    "heading_collapsed": true
   },
   "source": [
    "# Теги форматирования текста"
   ]
  },
  {
   "cell_type": "code",
   "execution_count": 155,
   "metadata": {
    "ExecuteTime": {
     "end_time": "2021-04-23T22:50:53.667466Z",
     "start_time": "2021-04-23T22:50:53.655982Z"
    },
    "cell_style": "center",
    "hidden": true
   },
   "outputs": [
    {
     "data": {
      "text/html": [
       "<b>Текст</b><br/>\n",
       "<big>Текст</big><br/>\n",
       "<blink>Текст</blink><br/>\n",
       "<hr>\n",
       "<i>Текст</i><br/><s>Текст</s><br/><strike>Текст</strike><br/>\n",
       "<ins>Текст</ins>\n",
       "<hr>\n",
       "<kbd>Текст</kbd><br/>\n",
       "<dfn>Текст 123</dfn><br/>\n",
       "<blockquote>Текст</blockquote><br/>\n",
       "<center>Текст в центре</center><br/>\n",
       "<cite>\"Текст как цитата\"</cite><br/>\n",
       "<q>Текст</q><br/>\n",
       "<small>Текст</small><br/>\n"
      ],
      "text/plain": [
       "<IPython.core.display.HTML object>"
      ]
     },
     "metadata": {},
     "output_type": "display_data"
    }
   ],
   "source": [
    "%%html\n",
    "<b>Текст</b><br/>\n",
    "<big>Текст</big><br/>\n",
    "<blink>Текст</blink><br/>\n",
    "<hr>\n",
    "<i>Текст</i><br/><s>Текст</s><br/><strike>Текст</strike><br/>\n",
    "<ins>Текст</ins>\n",
    "<hr>\n",
    "<kbd>Текст</kbd><br/>\n",
    "<dfn>Текст 123</dfn><br/>\n",
    "<blockquote>Текст</blockquote><br/>\n",
    "<center>Текст в центре</center><br/>\n",
    "<cite>\"Текст как цитата\"</cite><br/>\n",
    "<q>Текст</q><br/>\n",
    "<small>Текст</small><br/>"
   ]
  },
  {
   "cell_type": "code",
   "execution_count": 135,
   "metadata": {
    "ExecuteTime": {
     "end_time": "2021-04-23T22:39:30.353822Z",
     "start_time": "2021-04-23T22:39:30.343914Z"
    },
    "hidden": true
   },
   "outputs": [
    {
     "data": {
      "text/html": [
       "Кликни на текст, попаешь на поле ввода<br/><br/>\n",
       "<input id=\"идентификатор\"><label for=\"идентификатор\">Текст</label>\n",
       "<label><input type=\"...\"> Текст</label>\n"
      ],
      "text/plain": [
       "<IPython.core.display.HTML object>"
      ]
     },
     "metadata": {},
     "output_type": "display_data"
    }
   ],
   "source": [
    "%%html\n",
    "Кликни на текст, попаешь на поле ввода<br/><br/>\n",
    "<input id=\"идентификатор\"><label for=\"идентификатор\">Текст</label>\n",
    "<label><input type=\"...\"> Текст</label>"
   ]
  },
  {
   "cell_type": "code",
   "execution_count": 156,
   "metadata": {
    "ExecuteTime": {
     "end_time": "2021-04-23T22:51:32.822738Z",
     "start_time": "2021-04-23T22:51:32.812217Z"
    },
    "hidden": true
   },
   "outputs": [
    {
     "data": {
      "text/html": [
       "<article>\n",
       "   <p><time>1957-10-04</time> запущен первый искусственный спутник Земли.</p>\n",
       "   <p><time>1960-08-19</time> первый полет собак в космос.</p>\n",
       "   <p><time>1961-04-12</time> первый полет человека в космос.</p>\n",
       "   <p><time>1963-06-16</time> первый полет женщины-космонавта.</p>\n",
       "   <p><time>1969-07-21</time> высадка человека на Луну.</p>\n",
       "  </article>\n"
      ],
      "text/plain": [
       "<IPython.core.display.HTML object>"
      ]
     },
     "metadata": {},
     "output_type": "display_data"
    }
   ],
   "source": [
    "%%html\n",
    "<article>\n",
    "   <p><time>1957-10-04</time> запущен первый искусственный спутник Земли.</p>\n",
    "   <p><time>1960-08-19</time> первый полет собак в космос.</p>\n",
    "   <p><time>1961-04-12</time> первый полет человека в космос.</p>\n",
    "   <p><time>1963-06-16</time> первый полет женщины-космонавта.</p>\n",
    "   <p><time>1969-07-21</time> высадка человека на Луну.</p>\n",
    "  </article>"
   ]
  },
  {
   "cell_type": "code",
   "execution_count": 154,
   "metadata": {
    "ExecuteTime": {
     "end_time": "2021-04-23T22:50:12.960042Z",
     "start_time": "2021-04-23T22:50:12.951026Z"
    },
    "hidden": true
   },
   "outputs": [
    {
     "data": {
      "text/html": [
       "<p><span class=\"letter\">Р</span>азумные люди приспосабливаются к окружающему миру. \n",
       "  Неразумные люди приспосабливают мир к себе. Вот почему прогресс определяется \n",
       "  действиями неразумных людей.</p> \n",
       "  <p>Бернард Шоу</p>\n"
      ],
      "text/plain": [
       "<IPython.core.display.HTML object>"
      ]
     },
     "metadata": {},
     "output_type": "display_data"
    }
   ],
   "source": [
    "%%html\n",
    "<p><span class=\"letter\">Р</span>азумные люди приспосабливаются к окружающему миру. \n",
    "  Неразумные люди приспосабливают мир к себе. Вот почему прогресс определяется \n",
    "  действиями неразумных людей.</p> \n",
    "  <p>Бернард Шоу</p>"
   ]
  },
  {
   "cell_type": "code",
   "execution_count": 77,
   "metadata": {
    "ExecuteTime": {
     "end_time": "2021-04-23T22:07:55.778131Z",
     "start_time": "2021-04-23T22:07:55.765926Z"
    },
    "cell_style": "center",
    "hidden": true
   },
   "outputs": [
    {
     "data": {
      "text/html": [
       "Хитро отображаем текст программного кода\n",
       "<code>\n",
       "    function checkParent (src, dest) {<Br>\n",
       "     while (src != null) {<Br>\n",
       "       if (src.tagName == dest) return src<Br>\n",
       "        src = src.parentElement<Br>\n",
       "     }<Br>\n",
       "     return null<Br>\n",
       "    }</code>\n"
      ],
      "text/plain": [
       "<IPython.core.display.HTML object>"
      ]
     },
     "metadata": {},
     "output_type": "display_data"
    }
   ],
   "source": [
    "%%html\n",
    "Хитро отображаем текст программного кода\n",
    "<code>\n",
    "    function checkParent (src, dest) {<Br>\n",
    "     while (src != null) {<Br>\n",
    "       if (src.tagName == dest) return src<Br>\n",
    "        src = src.parentElement<Br>\n",
    "     }<Br>\n",
    "     return null<Br>\n",
    "    }</code>"
   ]
  },
  {
   "cell_type": "code",
   "execution_count": 139,
   "metadata": {
    "ExecuteTime": {
     "end_time": "2021-04-23T22:42:08.371279Z",
     "start_time": "2021-04-23T22:42:08.357165Z"
    },
    "hidden": true
   },
   "outputs": [
    {
     "data": {
      "text/html": [
       "<del>Текст</del><br/>\n",
       "<details>Покажи, что у тебя есть!</details>\n",
       "<p>А тегом p создадим абзац</p>\n",
       "<p>А тегом p создадим абзац</p>\n"
      ],
      "text/plain": [
       "<IPython.core.display.HTML object>"
      ]
     },
     "metadata": {},
     "output_type": "display_data"
    }
   ],
   "source": [
    "%%html\n",
    "<del>Текст</del><br/>\n",
    "<details>Покажи, что у тебя есть!</details>\n",
    "<p>А тегом p создадим абзац</p>\n",
    "<p>А тегом p создадим абзац</p>"
   ]
  },
  {
   "cell_type": "code",
   "execution_count": 142,
   "metadata": {
    "ExecuteTime": {
     "end_time": "2021-04-23T22:43:54.355527Z",
     "start_time": "2021-04-23T22:43:54.345685Z"
    },
    "hidden": true
   },
   "outputs": [
    {
     "data": {
      "text/html": [
       "Отображение текста в лоб\n",
       "<plaintext>\n",
       "   <h1>Демонстрация метода Подборского</h1>\n",
       "   while (<>) {\n",
       "     $org=$_;\n",
       "     s/\\\\[\"']//g;\n",
       "     s/\\/\\/[^:].*//;\n",
       "     s/\\/\\*.*\\*\\///g;\n",
       "     if ($comment == 1) {\n",
       "       if (s/.*\\*\\///) {\n",
       "         $comment = 0;\n",
       "       }\n",
       "       else {\n",
       "         next;\n",
       "       }\n",
       "     }\n",
       "     if (s/\\/\\*.*//) {\n",
       "       $comment = 1;\n",
       "     }\n",
       "     if (/^\\s*#/) {\n",
       "       next;\n",
       "     }\n",
       "   }</plaintext>\n"
      ],
      "text/plain": [
       "<IPython.core.display.HTML object>"
      ]
     },
     "metadata": {},
     "output_type": "display_data"
    }
   ],
   "source": [
    "%%html\n",
    "Отображение текста в лоб\n",
    "<plaintext>\n",
    "   <h1>Демонстрация метода Подборского</h1>\n",
    "   while (<>) {\n",
    "     $org=$_;\n",
    "     s/\\\\[\"']//g;\n",
    "     s/\\/\\/[^:].*//;\n",
    "     s/\\/\\*.*\\*\\///g;\n",
    "     if ($comment == 1) {\n",
    "       if (s/.*\\*\\///) {\n",
    "         $comment = 0;\n",
    "       }\n",
    "       else {\n",
    "         next;\n",
    "       }\n",
    "     }\n",
    "     if (s/\\/\\*.*//) {\n",
    "       $comment = 1;\n",
    "     }\n",
    "     if (/^\\s*#/) {\n",
    "       next;\n",
    "     }\n",
    "   }</plaintext>"
   ]
  },
  {
   "cell_type": "code",
   "execution_count": 143,
   "metadata": {
    "ExecuteTime": {
     "end_time": "2021-04-23T22:44:34.691649Z",
     "start_time": "2021-04-23T22:44:34.681566Z"
    },
    "hidden": true
   },
   "outputs": [
    {
     "data": {
      "text/html": [
       "<pre>\n",
       "\t -                -----  \n",
       "\t -----           |-----\n",
       "\t||----|          ----||  \n",
       "\t||-----         -----||  \n",
       "\t||-----|       |-----||\n",
       "\t|| -----       ------||\n",
       "\t||- ----|     |------||\n",
       "\t||---||--     -------||\n",
       "\t||--|| --|   |-------||\n",
       "\t|| -|| |--   --- - --||\n",
       "\t|| -||  --|-|--| - ---|\n",
       "\t|---||  |-----| |-----|\n",
       "\t|---||   |----  |-----| \n",
       "\t|----|    ---   |-----|\n",
       "\t|-----          ------| \n",
       " </pre>\n"
      ],
      "text/plain": [
       "<IPython.core.display.HTML object>"
      ]
     },
     "metadata": {},
     "output_type": "display_data"
    }
   ],
   "source": [
    "%%html\n",
    "<pre>\n",
    "\t -                -----  \n",
    "\t -----           |-----\n",
    "\t||----|          ----||  \n",
    "\t||-----         -----||  \n",
    "\t||-----|       |-----||\n",
    "\t|| -----       ------||\n",
    "\t||- ----|     |------||\n",
    "\t||---||--     -------||\n",
    "\t||--|| --|   |-------||\n",
    "\t|| -|| |--   --- - --||\n",
    "\t|| -||  --|-|--| - ---|\n",
    "\t|---||  |-----| |-----|\n",
    "\t|---||   |----  |-----| \n",
    "\t|----|    ---   |-----|\n",
    "\t|-----          ------| \n",
    " </pre>"
   ]
  },
  {
   "cell_type": "markdown",
   "metadata": {},
   "source": [
    "# Div - о нем позже..."
   ]
  },
  {
   "cell_type": "markdown",
   "metadata": {
    "heading_collapsed": true
   },
   "source": [
    "# font\n",
    "http://htmlbook.ru/html/font"
   ]
  },
  {
   "cell_type": "markdown",
   "metadata": {
    "heading_collapsed": true
   },
   "source": [
    "# footer\n",
    "-подвал, или блок с содержимым, что закономерно распологается в низу страници\n",
    "http://htmlbook.ru/html/footer\n",
    "\n",
    "есть ему парный header, что распологается в верху страницы\n",
    "http://htmlbook.ru/html/header"
   ]
  },
  {
   "cell_type": "code",
   "execution_count": 118,
   "metadata": {
    "ExecuteTime": {
     "end_time": "2021-04-23T22:27:56.755589Z",
     "start_time": "2021-04-23T22:27:56.743767Z"
    },
    "hidden": true
   },
   "outputs": [
    {
     "data": {
      "text/html": [
       "   <body>\n",
       " <header>\n",
       "   <h1>Персональный сайт Кристины Ветровой</h1>\n",
       " </header>\n",
       " <article>\n",
       "   <h2>Добро пожаловать!</h2>\n",
       "   <p>Рада приветствовать вас на своем сайте.</p>\n",
       " </article>\n",
       " <footer>\n",
       "   Copyright Кристина Ветрова\n",
       " </footer>\n",
       "</body> \n"
      ],
      "text/plain": [
       "<IPython.core.display.HTML object>"
      ]
     },
     "metadata": {},
     "output_type": "display_data"
    }
   ],
   "source": [
    " %%html\n",
    "    <body>\n",
    "  <header>\n",
    "    <h1>Персональный сайт Кристины Ветровой</h1>\n",
    "  </header>\n",
    "  <article>\n",
    "    <h2>Добро пожаловать!</h2>\n",
    "    <p>Рада приветствовать вас на своем сайте.</p>\n",
    "  </article>\n",
    "  <footer>\n",
    "    Copyright Кристина Ветрова\n",
    "  </footer>\n",
    " </body> "
   ]
  },
  {
   "cell_type": "markdown",
   "metadata": {
    "heading_collapsed": true
   },
   "source": [
    "# Кнопка и её друзья"
   ]
  },
  {
   "cell_type": "code",
   "execution_count": 65,
   "metadata": {
    "ExecuteTime": {
     "end_time": "2021-04-23T21:59:30.706112Z",
     "start_time": "2021-04-23T21:59:30.693424Z"
    },
    "hidden": true
   },
   "outputs": [
    {
     "data": {
      "text/html": [
       "<button>\n",
       "<img \n",
       "    src=\"https://vseryukzaki.ru/wa-data/public/shop/products/53/89/18953/images/56750/56750.750x0.jpg\"\n",
       "    alt=\"Зонтик\" \n",
       "    style=\"vertical-align: middle;height: 150px;width: 150px; \">\n",
       "Кнопка с рисунком XD\n",
       "</button>\n"
      ],
      "text/plain": [
       "<IPython.core.display.HTML object>"
      ]
     },
     "metadata": {},
     "output_type": "display_data"
    }
   ],
   "source": [
    "%%html\n",
    "<button>\n",
    "<img \n",
    "    src=\"https://vseryukzaki.ru/wa-data/public/shop/products/53/89/18953/images/56750/56750.750x0.jpg\"\n",
    "    alt=\"Зонтик\" \n",
    "    style=\"vertical-align: middle;height: 150px;width: 150px; \">\n",
    "Кнопка с рисунком XD\n",
    "</button>"
   ]
  },
  {
   "cell_type": "code",
   "execution_count": 151,
   "metadata": {
    "ExecuteTime": {
     "end_time": "2021-04-23T22:48:10.571491Z",
     "start_time": "2021-04-23T22:48:10.561828Z"
    },
    "hidden": true
   },
   "outputs": [
    {
     "data": {
      "text/html": [
       "Выберете один вариант\n",
       "<br/>\n",
       "<input list=\"<идентификатор>\">\n",
       "<datalist id=\"<идентификатор>\">\n",
       " <option value=\"Текст1\">\n",
       " <option value=\"Текст2\">\n",
       "</datalist><br/>\n",
       "<select>\n",
       "  <option>Пункт 1</option>\n",
       "  <option>Пункт 2</option>\n",
       "</select>\n"
      ],
      "text/plain": [
       "<IPython.core.display.HTML object>"
      ]
     },
     "metadata": {},
     "output_type": "display_data"
    }
   ],
   "source": [
    "%%html\n",
    "Выберете один вариант\n",
    "<br/>\n",
    "<input list=\"<идентификатор>\">\n",
    "<datalist id=\"<идентификатор>\">\n",
    " <option value=\"Текст1\">\n",
    " <option value=\"Текст2\">\n",
    "</datalist><br/>\n",
    "<select>\n",
    "  <option>Пункт 1</option>\n",
    "  <option>Пункт 2</option>\n",
    "</select>"
   ]
  },
  {
   "cell_type": "code",
   "execution_count": 98,
   "metadata": {
    "ExecuteTime": {
     "end_time": "2021-04-23T22:17:29.690256Z",
     "start_time": "2021-04-23T22:17:29.678775Z"
    },
    "hidden": true
   },
   "outputs": [
    {
     "data": {
      "text/html": [
       "Создаем список\n",
       "<dir>\n",
       "  <li>имя директории</li>\n",
       "  <li>имя директории</li>\n",
       "</dir>\n",
       "<fieldset>\n",
       "   <legend>Работа со временем</legend>\n",
       "     <input type=\"checkbox\"> создание пунктуальности (никогда не \n",
       "      будете никуда опаздывать);<br>\n",
       "     <input type=\"checkbox\"> излечение от пунктуальности (никогда \n",
       "      никуда не будете торопиться);<br>\n",
       "     <input type=\"checkbox\"> изменение восприятия времени и часов.\n",
       "      <p><input type=\"submit\"></p>\n",
       "  </fieldset>\n"
      ],
      "text/plain": [
       "<IPython.core.display.HTML object>"
      ]
     },
     "metadata": {},
     "output_type": "display_data"
    }
   ],
   "source": [
    "%%html\n",
    "Создаем список\n",
    "<dir>\n",
    "  <li>имя директории</li>\n",
    "  <li>имя директории</li>\n",
    "</dir>"
   ]
  },
  {
   "cell_type": "code",
   "execution_count": 100,
   "metadata": {
    "ExecuteTime": {
     "end_time": "2021-04-23T22:17:53.214558Z",
     "start_time": "2021-04-23T22:17:53.206359Z"
    },
    "hidden": true
   },
   "outputs": [
    {
     "data": {
      "text/html": [
       "Группируем элементы\n",
       "<fieldset>\n",
       "   <legend>Работа со временем</legend>\n",
       "     <input type=\"checkbox\"> создание пунктуальности (никогда не \n",
       "      будете никуда опаздывать);<br>\n",
       "     <input type=\"checkbox\"> излечение от пунктуальности (никогда \n",
       "      никуда не будете торопиться);<br>\n",
       "     <input type=\"checkbox\"> изменение восприятия времени и часов.\n",
       "      <p><input type=\"submit\"></p>\n",
       "  </fieldset>\n"
      ],
      "text/plain": [
       "<IPython.core.display.HTML object>"
      ]
     },
     "metadata": {},
     "output_type": "display_data"
    }
   ],
   "source": [
    "%%html\n",
    "Группируем элементы\n",
    "<fieldset>\n",
    "   <legend>Работа со временем</legend>\n",
    "     <input type=\"checkbox\"> создание пунктуальности (никогда не \n",
    "      будете никуда опаздывать);<br>\n",
    "     <input type=\"checkbox\"> излечение от пунктуальности (никогда \n",
    "      никуда не будете торопиться);<br>\n",
    "     <input type=\"checkbox\"> изменение восприятия времени и часов.\n",
    "      <p><input type=\"submit\"></p>\n",
    "  </fieldset>"
   ]
  },
  {
   "cell_type": "code",
   "execution_count": 117,
   "metadata": {
    "ExecuteTime": {
     "end_time": "2021-04-23T22:24:45.559937Z",
     "start_time": "2021-04-23T22:24:45.549629Z"
    },
    "code_folding": [
     2,
     3
    ],
    "hidden": true
   },
   "outputs": [
    {
     "data": {
      "text/html": [
       "Рисуем фигуры с содержимым и комментарием в теге статьи ??? Ну ладно, обычно так не делают, но пусть будет\n",
       "<style>\n",
       "   figure {\n",
       "    background: #d9dabb; /* Цвет фона */\n",
       "    display: block; /* Блочный элемент */\n",
       "    width: 170px; /* Ширина */\n",
       "    height: 190px; /* Высота */\n",
       "    float: left; /* Блоки выстраиваются по горизонтали */\n",
       "    margin: 0 10px 10px 0; /* Отступы */\n",
       "    text-align: center; /* Выравнивание по центру */\n",
       "   }\n",
       "   figure img {\n",
       "    border: 2px solid #8b8e4b; /* Параметры рамки */\n",
       "   }\n",
       "   figure p {\n",
       "    margin-bottom: 0; /* Отступ снизу */\n",
       "   }\n",
       "  </style>\n",
       "<article>\n",
       "<figure>\n",
       "    <p><img src=\"https://vseryukzaki.ru/wa-data/public/shop/products/53/89/18953/images/56750/56750.750x0.jpg\" alt=\"\"></p>\n",
       "    <figcaption> Цветной зонтик!</figcaption>\n",
       "</figure>\n",
       "<article>\n",
       "<figure>\n",
       "    <p><img src=\"https://babyart.ru/images/detailed/172/zontik_tsvetochnyy_sad.jpg\" alt=\"\"></p>\n",
       "    <figcaption> Няшный зонтик!</figcaption>\n",
       "</figure>\n",
       "<figure>\n",
       "    <p><img src=\"https://pbs.twimg.com/media/EXovIS3WsAAHsJz.jpg\" alt=\"\"></p>\n",
       "    <figcaption> Точно не зонтики!)</figcaption>\n",
       "</figure>\n",
       "</article>\n"
      ],
      "text/plain": [
       "<IPython.core.display.HTML object>"
      ]
     },
     "metadata": {},
     "output_type": "display_data"
    }
   ],
   "source": [
    "%%html\n",
    "Рисуем фигуры с содержимым и комментарием в теге статьи ??? Ну ладно, обычно так не делают, но пусть будет\n",
    "<style>\n",
    "   figure {\n",
    "    background: #d9dabb; /* Цвет фона */\n",
    "    display: block; /* Блочный элемент */\n",
    "    width: 170px; /* Ширина */\n",
    "    height: 190px; /* Высота */\n",
    "    float: left; /* Блоки выстраиваются по горизонтали */\n",
    "    margin: 0 10px 10px 0; /* Отступы */\n",
    "    text-align: center; /* Выравнивание по центру */\n",
    "   }\n",
    "   figure img {\n",
    "    border: 2px solid #8b8e4b; /* Параметры рамки */\n",
    "   }\n",
    "   figure p {\n",
    "    margin-bottom: 0; /* Отступ снизу */\n",
    "   }\n",
    "  </style>\n",
    "<article>\n",
    "<figure>\n",
    "    <p><img src=\"https://vseryukzaki.ru/wa-data/public/shop/products/53/89/18953/images/56750/56750.750x0.jpg\" alt=\"\"></p>\n",
    "    <figcaption> Цветной зонтик!</figcaption>\n",
    "</figure>\n",
    "<article>\n",
    "<figure>\n",
    "    <p><img src=\"https://babyart.ru/images/detailed/172/zontik_tsvetochnyy_sad.jpg\" alt=\"\"></p>\n",
    "    <figcaption> Няшный зонтик!</figcaption>\n",
    "</figure>\n",
    "<figure>\n",
    "    <p><img src=\"https://pbs.twimg.com/media/EXovIS3WsAAHsJz.jpg\" alt=\"\"></p>\n",
    "    <figcaption> Точно не зонтики!)</figcaption>\n",
    "</figure>\n",
    "</article>"
   ]
  },
  {
   "cell_type": "code",
   "execution_count": 145,
   "metadata": {
    "ExecuteTime": {
     "end_time": "2021-04-23T22:45:21.462788Z",
     "start_time": "2021-04-23T22:45:21.453349Z"
    },
    "hidden": true
   },
   "outputs": [
    {
     "data": {
      "text/html": [
       "<progress value=\"40\" max=\"50\">\n",
       "Текст\n",
       "</progress>\n"
      ],
      "text/plain": [
       "<IPython.core.display.HTML object>"
      ]
     },
     "metadata": {},
     "output_type": "display_data"
    }
   ],
   "source": [
    "%%html\n",
    "<progress value=\"40\" max=\"50\">\n",
    "Текст\n",
    "</progress>"
   ]
  },
  {
   "cell_type": "markdown",
   "metadata": {
    "heading_collapsed": true
   },
   "source": [
    "# canvas - рисуем смайлик из JavaScript"
   ]
  },
  {
   "cell_type": "code",
   "execution_count": 71,
   "metadata": {
    "ExecuteTime": {
     "end_time": "2021-04-23T22:04:08.119167Z",
     "start_time": "2021-04-23T22:04:08.110102Z"
    },
    "code_folding": [
     1
    ],
    "hidden": true
   },
   "outputs": [
    {
     "data": {
      "text/html": [
       "<script> \n",
       "\n",
       "    var drawingCanvas = document.getElementById('smile');\n",
       "    if(drawingCanvas && drawingCanvas.getContext) {\n",
       "     var context = drawingCanvas.getContext('2d');\n",
       "     // Рисуем окружность \n",
       "     context.strokeStyle = \"#000\";\n",
       "     context.fillStyle = \"#fc0\";\n",
       "     context.beginPath();\n",
       "     context.arc(100,100,50,0,Math.PI*2,true);\n",
       "     context.closePath();\n",
       "     context.stroke();\n",
       "     context.fill();\n",
       "     // Рисуем левый глаз \n",
       "     context.fillStyle = \"#fff\";\n",
       "     context.beginPath();\n",
       "     context.arc(84,90,8,0,Math.PI*2,true);\n",
       "     context.closePath();\n",
       "     context.stroke();\n",
       "     context.fill();\n",
       "     // Рисуем правый глаз \n",
       "     context.beginPath();\n",
       "     context.arc(116,90,8,0,Math.PI*2,true);\n",
       "     context.closePath();\n",
       "     context.stroke();\n",
       "     context.fill();\n",
       "     // Рисуем рот\n",
       "     context.beginPath();\n",
       "     context.moveTo(70,115);\n",
       "     context.quadraticCurveTo(100,130,130,115);\n",
       "     context.quadraticCurveTo(100,150,70,115); \n",
       "     context.closePath();\n",
       "     context.stroke();\n",
       "     context.fill();\n",
       "    }\n",
       "\n",
       "  </script>\n",
       "<canvas id=\"smile\" width=\"200\" height=\"200\">\n",
       "<p>Ваш браузер не поддерживает рисование.</p>\n",
       "</canvas>\n"
      ],
      "text/plain": [
       "<IPython.core.display.HTML object>"
      ]
     },
     "metadata": {},
     "output_type": "display_data"
    }
   ],
   "source": [
    "%%html\n",
    "<script> \n",
    "\n",
    "    var drawingCanvas = document.getElementById('smile');\n",
    "    if(drawingCanvas && drawingCanvas.getContext) {\n",
    "     var context = drawingCanvas.getContext('2d');\n",
    "     // Рисуем окружность \n",
    "     context.strokeStyle = \"#000\";\n",
    "     context.fillStyle = \"#fc0\";\n",
    "     context.beginPath();\n",
    "     context.arc(100,100,50,0,Math.PI*2,true);\n",
    "     context.closePath();\n",
    "     context.stroke();\n",
    "     context.fill();\n",
    "     // Рисуем левый глаз \n",
    "     context.fillStyle = \"#fff\";\n",
    "     context.beginPath();\n",
    "     context.arc(84,90,8,0,Math.PI*2,true);\n",
    "     context.closePath();\n",
    "     context.stroke();\n",
    "     context.fill();\n",
    "     // Рисуем правый глаз \n",
    "     context.beginPath();\n",
    "     context.arc(116,90,8,0,Math.PI*2,true);\n",
    "     context.closePath();\n",
    "     context.stroke();\n",
    "     context.fill();\n",
    "     // Рисуем рот\n",
    "     context.beginPath();\n",
    "     context.moveTo(70,115);\n",
    "     context.quadraticCurveTo(100,130,130,115);\n",
    "     context.quadraticCurveTo(100,150,70,115); \n",
    "     context.closePath();\n",
    "     context.stroke();\n",
    "     context.fill();\n",
    "    }\n",
    "\n",
    "  </script>\n",
    "<canvas id=\"smile\" width=\"200\" height=\"200\">\n",
    "<p>Ваш браузер не поддерживает рисование.</p>\n",
    "</canvas>\n"
   ]
  },
  {
   "cell_type": "markdown",
   "metadata": {
    "heading_collapsed": true
   },
   "source": [
    "# Другие не менее странные теги"
   ]
  },
  {
   "cell_type": "code",
   "execution_count": 55,
   "metadata": {
    "ExecuteTime": {
     "end_time": "2021-04-23T21:52:49.163286Z",
     "start_time": "2021-04-23T21:52:49.154806Z"
    },
    "hidden": true
   },
   "outputs": [
    {
     "data": {
      "text/html": [
       "<input type=\"radio\" name=\"browser\" value=\"ie\"> Internet Explorer<Br>\n",
       "<input type=\"radio\" name=\"browser\" value=\"opera\"> Opera<Br>\n",
       "<input type=\"radio\" name=\"browser\" value=\"firefox\"> Firefox<Br>\n"
      ],
      "text/plain": [
       "<IPython.core.display.HTML object>"
      ]
     },
     "metadata": {},
     "output_type": "display_data"
    }
   ],
   "source": [
    "%%html\n",
    "<input type=\"radio\" name=\"browser\" value=\"ie\"> Internet Explorer<Br>\n",
    "<input type=\"radio\" name=\"browser\" value=\"opera\"> Opera<Br>\n",
    "<input type=\"radio\" name=\"browser\" value=\"firefox\"> Firefox<Br>"
   ]
  },
  {
   "cell_type": "code",
   "execution_count": 52,
   "metadata": {
    "ExecuteTime": {
     "end_time": "2021-04-23T21:52:26.701004Z",
     "start_time": "2021-04-23T21:52:26.693651Z"
    },
    "hidden": true
   },
   "outputs": [
    {
     "data": {
      "text/html": [
       "<textarea name=\"comment\" cols=\"40\" rows=\"3\">textarea</textarea>\n"
      ],
      "text/plain": [
       "<IPython.core.display.HTML object>"
      ]
     },
     "metadata": {},
     "output_type": "display_data"
    }
   ],
   "source": [
    "%%html\n",
    "<textarea name=\"comment\" cols=\"40\" rows=\"3\">textarea</textarea>"
   ]
  },
  {
   "cell_type": "code",
   "execution_count": 51,
   "metadata": {
    "ExecuteTime": {
     "end_time": "2021-04-23T21:52:11.606251Z",
     "start_time": "2021-04-23T21:52:11.597654Z"
    },
    "hidden": true
   },
   "outputs": [
    {
     "data": {
      "text/html": [
       "<bdo dir=\"rtl\">А роза упала на лапу Азора</bdo><br/>\n",
       "<bdo dir=\"ltr\">А роза упала на лапу Азора</bdo>\n"
      ],
      "text/plain": [
       "<IPython.core.display.HTML object>"
      ]
     },
     "metadata": {},
     "output_type": "display_data"
    }
   ],
   "source": [
    "%%html\n",
    "<bdo dir=\"rtl\">А роза упала на лапу Азора</bdo><br/>\n",
    "<bdo dir=\"ltr\">А роза упала на лапу Азора</bdo>"
   ]
  },
  {
   "cell_type": "code",
   "execution_count": 83,
   "metadata": {
    "ExecuteTime": {
     "end_time": "2021-04-23T22:10:20.405694Z",
     "start_time": "2021-04-23T22:10:20.398187Z"
    },
    "hidden": true
   },
   "outputs": [
    {
     "data": {
      "text/html": [
       "<body>\n",
       "<comment><div class=\"ie\">Этот текст не виден в браузере Internet Explorer</div></comment>\n",
       "<div>Этот текст показывается во всех браузерах</div>\n",
       "</body>\n"
      ],
      "text/plain": [
       "<IPython.core.display.HTML object>"
      ]
     },
     "metadata": {},
     "output_type": "display_data"
    }
   ],
   "source": [
    "%%html\n",
    "<body>\n",
    "<comment><div class=\"ie\">Этот текст не виден в браузере Internet Explorer</div></comment>\n",
    "<div>Этот текст показывается во всех браузерах</div>\n",
    "</body>"
   ]
  },
  {
   "cell_type": "code",
   "execution_count": 37,
   "metadata": {
    "ExecuteTime": {
     "end_time": "2021-04-23T21:45:26.902255Z",
     "start_time": "2021-04-23T21:45:26.893860Z"
    },
    "hidden": true
   },
   "outputs": [
    {
     "data": {
      "text/html": [
       "<abbr>Текст</abbr><br/>\n",
       "<acronym>Текст</acronym><br/>\n",
       "<address>Текст</address><br/>\n",
       "<article>\n",
       "История о том, как возле столовой появились загадочные розовые \n",
       "следы с шестью пальцами, и почему это случилось. \n",
       "</article><br/>\n",
       "<aside>fsd</aside><br/>\n",
       "<audio>\n",
       " <source src=\"URL\">sfds\n",
       "</audio>\n"
      ],
      "text/plain": [
       "<IPython.core.display.HTML object>"
      ]
     },
     "metadata": {},
     "output_type": "display_data"
    }
   ],
   "source": [
    "%%html\n",
    "<abbr>Текст</abbr><br/>\n",
    "<acronym>Текст</acronym><br/>\n",
    "<address>Текст</address><br/>\n",
    "<article>\n",
    "История о том, как возле столовой появились загадочные розовые \n",
    "следы с шестью пальцами, и почему это случилось. \n",
    "</article><br/>\n",
    "<aside>fsd</aside><br/>"
   ]
  },
  {
   "cell_type": "code",
   "execution_count": 87,
   "metadata": {
    "ExecuteTime": {
     "end_time": "2021-04-23T22:12:33.405576Z",
     "start_time": "2021-04-23T22:12:33.398002Z"
    },
    "hidden": true
   },
   "outputs": [
    {
     "data": {
      "text/html": [
       "<dl>\n",
       "  <dt>Термин 1</dt>\n",
       "   <dd>Определение термина 1</dd>\n",
       "  <dt>Термин 2</dt>\n",
       "   <dd>Определение термина 2</dd>\n",
       "</dl>\n"
      ],
      "text/plain": [
       "<IPython.core.display.HTML object>"
      ]
     },
     "metadata": {},
     "output_type": "display_data"
    }
   ],
   "source": [
    "%%html\n",
    "<dl>\n",
    "  <dt>Термин 1</dt>\n",
    "   <dd>Определение термина 1</dd>\n",
    "  <dt>Термин 2</dt>\n",
    "   <dd>Определение термина 2</dd>\n",
    "</dl>"
   ]
  },
  {
   "cell_type": "code",
   "execution_count": 137,
   "metadata": {
    "ExecuteTime": {
     "end_time": "2021-04-23T22:40:48.134519Z",
     "start_time": "2021-04-23T22:40:48.127078Z"
    },
    "hidden": true
   },
   "outputs": [
    {
     "data": {
      "text/html": [
       "Используется для формирования списков\n",
       "<ul>\n",
       "   <li>Чебурашка</li>\n",
       "   <li>Крокодил Гена</li>\n",
       "   <li>Шапокляк</li>\n",
       "  </ul>\n"
      ],
      "text/plain": [
       "<IPython.core.display.HTML object>"
      ]
     },
     "metadata": {},
     "output_type": "display_data"
    }
   ],
   "source": [
    "%%html\n",
    "Используется для формирования списков\n",
    "<ul>\n",
    "   <li>Чебурашка</li>\n",
    "   <li>Крокодил Гена</li>\n",
    "   <li>Шапокляк</li>\n",
    "  </ul>"
   ]
  },
  {
   "cell_type": "code",
   "execution_count": null,
   "metadata": {
    "hidden": true
   },
   "outputs": [],
   "source": []
  }
 ],
 "metadata": {
  "celltoolbar": "Raw Cell Format",
  "kernelspec": {
   "display_name": "Python 3",
   "language": "python",
   "name": "python3"
  },
  "language_info": {
   "codemirror_mode": {
    "name": "ipython",
    "version": 3
   },
   "file_extension": ".py",
   "mimetype": "text/x-python",
   "name": "python",
   "nbconvert_exporter": "python",
   "pygments_lexer": "ipython3",
   "version": "3.8.5"
  },
  "widgets": {
   "application/vnd.jupyter.widget-state+json": {
    "state": {},
    "version_major": 2,
    "version_minor": 0
   }
  }
 },
 "nbformat": 4,
 "nbformat_minor": 4
}
